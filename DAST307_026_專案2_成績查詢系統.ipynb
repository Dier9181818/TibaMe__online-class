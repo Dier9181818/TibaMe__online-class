{
 "cells": [
  {
   "cell_type": "markdown",
   "id": "medical-server",
   "metadata": {},
   "source": [
    "# 創建資料表"
   ]
  },
  {
   "cell_type": "code",
   "execution_count": 8,
   "id": "african-desert",
   "metadata": {},
   "outputs": [
    {
     "ename": "OperationalError",
     "evalue": "(1050, \"Table 'students' already exists\")",
     "output_type": "error",
     "traceback": [
      "\u001b[0;31m---------------------------------------------------------------------------\u001b[0m",
      "\u001b[0;31mOperationalError\u001b[0m                          Traceback (most recent call last)",
      "\u001b[1;32m/Users/yanjiayu/Downloads/TibaMe/2. MySQL/L2 直播實作/DAST307_026_專案2/DAST307_026_專案2_成績查詢系統.ipynb Cell 2'\u001b[0m in \u001b[0;36m<cell line: 32>\u001b[0;34m()\u001b[0m\n\u001b[1;32m     <a href='vscode-notebook-cell:/Users/yanjiayu/Downloads/TibaMe/2.%20MySQL/L2%20%E7%9B%B4%E6%92%AD%E5%AF%A6%E4%BD%9C/DAST307_026_%E5%B0%88%E6%A1%882/DAST307_026_%E5%B0%88%E6%A1%882_%E6%88%90%E7%B8%BE%E6%9F%A5%E8%A9%A2%E7%B3%BB%E7%B5%B1.ipynb#ch0000002?line=11'>12</a>\u001b[0m \u001b[39m'''\u001b[39;00m\n\u001b[1;32m     <a href='vscode-notebook-cell:/Users/yanjiayu/Downloads/TibaMe/2.%20MySQL/L2%20%E7%9B%B4%E6%92%AD%E5%AF%A6%E4%BD%9C/DAST307_026_%E5%B0%88%E6%A1%882/DAST307_026_%E5%B0%88%E6%A1%882_%E6%88%90%E7%B8%BE%E6%9F%A5%E8%A9%A2%E7%B3%BB%E7%B5%B1.ipynb#ch0000002?line=12'>13</a>\u001b[0m \u001b[39m| ID INT(11) | NAME CHAR(20) | GENDER CHAR(20) | CHINESE CHAR(20) | ENGLISH CHAR(20) | MATH CHAR(20) | SOCIAL_SCIENCE CHAR(20) | SCIENCE  CHAR(20) |\u001b[39;00m\n\u001b[1;32m     <a href='vscode-notebook-cell:/Users/yanjiayu/Downloads/TibaMe/2.%20MySQL/L2%20%E7%9B%B4%E6%92%AD%E5%AF%A6%E4%BD%9C/DAST307_026_%E5%B0%88%E6%A1%882/DAST307_026_%E5%B0%88%E6%A1%882_%E6%88%90%E7%B8%BE%E6%9F%A5%E8%A9%A2%E7%B3%BB%E7%B5%B1.ipynb#ch0000002?line=13'>14</a>\u001b[0m \n\u001b[0;32m   (...)\u001b[0m\n\u001b[1;32m     <a href='vscode-notebook-cell:/Users/yanjiayu/Downloads/TibaMe/2.%20MySQL/L2%20%E7%9B%B4%E6%92%AD%E5%AF%A6%E4%BD%9C/DAST307_026_%E5%B0%88%E6%A1%882/DAST307_026_%E5%B0%88%E6%A1%882_%E6%88%90%E7%B8%BE%E6%9F%A5%E8%A9%A2%E7%B3%BB%E7%B5%B1.ipynb#ch0000002?line=16'>17</a>\u001b[0m \n\u001b[1;32m     <a href='vscode-notebook-cell:/Users/yanjiayu/Downloads/TibaMe/2.%20MySQL/L2%20%E7%9B%B4%E6%92%AD%E5%AF%A6%E4%BD%9C/DAST307_026_%E5%B0%88%E6%A1%882/DAST307_026_%E5%B0%88%E6%A1%882_%E6%88%90%E7%B8%BE%E6%9F%A5%E8%A9%A2%E7%B3%BB%E7%B5%B1.ipynb#ch0000002?line=17'>18</a>\u001b[0m \u001b[39m'''\u001b[39;00m\n\u001b[1;32m     <a href='vscode-notebook-cell:/Users/yanjiayu/Downloads/TibaMe/2.%20MySQL/L2%20%E7%9B%B4%E6%92%AD%E5%AF%A6%E4%BD%9C/DAST307_026_%E5%B0%88%E6%A1%882/DAST307_026_%E5%B0%88%E6%A1%882_%E6%88%90%E7%B8%BE%E6%9F%A5%E8%A9%A2%E7%B3%BB%E7%B5%B1.ipynb#ch0000002?line=19'>20</a>\u001b[0m sql \u001b[39m=\u001b[39m \u001b[39m\"\"\"\u001b[39m\u001b[39mCREATE TABLE STUDENTS (\u001b[39m\n\u001b[1;32m     <a href='vscode-notebook-cell:/Users/yanjiayu/Downloads/TibaMe/2.%20MySQL/L2%20%E7%9B%B4%E6%92%AD%E5%AF%A6%E4%BD%9C/DAST307_026_%E5%B0%88%E6%A1%882/DAST307_026_%E5%B0%88%E6%A1%882_%E6%88%90%E7%B8%BE%E6%9F%A5%E8%A9%A2%E7%B3%BB%E7%B5%B1.ipynb#ch0000002?line=20'>21</a>\u001b[0m \u001b[39m         ID INT(11) NOT NULL AUTO_INCREMENT,\u001b[39m\n\u001b[1;32m     <a href='vscode-notebook-cell:/Users/yanjiayu/Downloads/TibaMe/2.%20MySQL/L2%20%E7%9B%B4%E6%92%AD%E5%AF%A6%E4%BD%9C/DAST307_026_%E5%B0%88%E6%A1%882/DAST307_026_%E5%B0%88%E6%A1%882_%E6%88%90%E7%B8%BE%E6%9F%A5%E8%A9%A2%E7%B3%BB%E7%B5%B1.ipynb#ch0000002?line=21'>22</a>\u001b[0m \u001b[39m         NAME  CHAR(20),\u001b[39m\n\u001b[0;32m   (...)\u001b[0m\n\u001b[1;32m     <a href='vscode-notebook-cell:/Users/yanjiayu/Downloads/TibaMe/2.%20MySQL/L2%20%E7%9B%B4%E6%92%AD%E5%AF%A6%E4%BD%9C/DAST307_026_%E5%B0%88%E6%A1%882/DAST307_026_%E5%B0%88%E6%A1%882_%E6%88%90%E7%B8%BE%E6%9F%A5%E8%A9%A2%E7%B3%BB%E7%B5%B1.ipynb#ch0000002?line=29'>30</a>\u001b[0m \u001b[39m         PRIMARY KEY  (ID)\u001b[39m\n\u001b[1;32m     <a href='vscode-notebook-cell:/Users/yanjiayu/Downloads/TibaMe/2.%20MySQL/L2%20%E7%9B%B4%E6%92%AD%E5%AF%A6%E4%BD%9C/DAST307_026_%E5%B0%88%E6%A1%882/DAST307_026_%E5%B0%88%E6%A1%882_%E6%88%90%E7%B8%BE%E6%9F%A5%E8%A9%A2%E7%B3%BB%E7%B5%B1.ipynb#ch0000002?line=30'>31</a>\u001b[0m \u001b[39m         ) DEFAULT CHARSET=utf8\u001b[39m\u001b[39m\"\"\"\u001b[39m\n\u001b[0;32m---> <a href='vscode-notebook-cell:/Users/yanjiayu/Downloads/TibaMe/2.%20MySQL/L2%20%E7%9B%B4%E6%92%AD%E5%AF%A6%E4%BD%9C/DAST307_026_%E5%B0%88%E6%A1%882/DAST307_026_%E5%B0%88%E6%A1%882_%E6%88%90%E7%B8%BE%E6%9F%A5%E8%A9%A2%E7%B3%BB%E7%B5%B1.ipynb#ch0000002?line=31'>32</a>\u001b[0m cursor\u001b[39m.\u001b[39;49mexecute(sql)\n\u001b[1;32m     <a href='vscode-notebook-cell:/Users/yanjiayu/Downloads/TibaMe/2.%20MySQL/L2%20%E7%9B%B4%E6%92%AD%E5%AF%A6%E4%BD%9C/DAST307_026_%E5%B0%88%E6%A1%882/DAST307_026_%E5%B0%88%E6%A1%882_%E6%88%90%E7%B8%BE%E6%9F%A5%E8%A9%A2%E7%B3%BB%E7%B5%B1.ipynb#ch0000002?line=33'>34</a>\u001b[0m db\u001b[39m.\u001b[39mclose()\n",
      "File \u001b[0;32m/Library/Frameworks/Python.framework/Versions/3.10/lib/python3.10/site-packages/MySQLdb/cursors.py:206\u001b[0m, in \u001b[0;36mBaseCursor.execute\u001b[0;34m(self, query, args)\u001b[0m\n\u001b[1;32m    <a href='file:///Library/Frameworks/Python.framework/Versions/3.10/lib/python3.10/site-packages/MySQLdb/cursors.py?line=202'>203</a>\u001b[0m         \u001b[39mraise\u001b[39;00m ProgrammingError(\u001b[39mstr\u001b[39m(m))\n\u001b[1;32m    <a href='file:///Library/Frameworks/Python.framework/Versions/3.10/lib/python3.10/site-packages/MySQLdb/cursors.py?line=204'>205</a>\u001b[0m \u001b[39massert\u001b[39;00m \u001b[39misinstance\u001b[39m(query, (\u001b[39mbytes\u001b[39m, \u001b[39mbytearray\u001b[39m))\n\u001b[0;32m--> <a href='file:///Library/Frameworks/Python.framework/Versions/3.10/lib/python3.10/site-packages/MySQLdb/cursors.py?line=205'>206</a>\u001b[0m res \u001b[39m=\u001b[39m \u001b[39mself\u001b[39;49m\u001b[39m.\u001b[39;49m_query(query)\n\u001b[1;32m    <a href='file:///Library/Frameworks/Python.framework/Versions/3.10/lib/python3.10/site-packages/MySQLdb/cursors.py?line=206'>207</a>\u001b[0m \u001b[39mreturn\u001b[39;00m res\n",
      "File \u001b[0;32m/Library/Frameworks/Python.framework/Versions/3.10/lib/python3.10/site-packages/MySQLdb/cursors.py:319\u001b[0m, in \u001b[0;36mBaseCursor._query\u001b[0;34m(self, q)\u001b[0m\n\u001b[1;32m    <a href='file:///Library/Frameworks/Python.framework/Versions/3.10/lib/python3.10/site-packages/MySQLdb/cursors.py?line=316'>317</a>\u001b[0m db \u001b[39m=\u001b[39m \u001b[39mself\u001b[39m\u001b[39m.\u001b[39m_get_db()\n\u001b[1;32m    <a href='file:///Library/Frameworks/Python.framework/Versions/3.10/lib/python3.10/site-packages/MySQLdb/cursors.py?line=317'>318</a>\u001b[0m \u001b[39mself\u001b[39m\u001b[39m.\u001b[39m_result \u001b[39m=\u001b[39m \u001b[39mNone\u001b[39;00m\n\u001b[0;32m--> <a href='file:///Library/Frameworks/Python.framework/Versions/3.10/lib/python3.10/site-packages/MySQLdb/cursors.py?line=318'>319</a>\u001b[0m db\u001b[39m.\u001b[39;49mquery(q)\n\u001b[1;32m    <a href='file:///Library/Frameworks/Python.framework/Versions/3.10/lib/python3.10/site-packages/MySQLdb/cursors.py?line=319'>320</a>\u001b[0m \u001b[39mself\u001b[39m\u001b[39m.\u001b[39m_do_get_result(db)\n\u001b[1;32m    <a href='file:///Library/Frameworks/Python.framework/Versions/3.10/lib/python3.10/site-packages/MySQLdb/cursors.py?line=320'>321</a>\u001b[0m \u001b[39mself\u001b[39m\u001b[39m.\u001b[39m_post_get_result()\n",
      "File \u001b[0;32m/Library/Frameworks/Python.framework/Versions/3.10/lib/python3.10/site-packages/MySQLdb/connections.py:254\u001b[0m, in \u001b[0;36mConnection.query\u001b[0;34m(self, query)\u001b[0m\n\u001b[1;32m    <a href='file:///Library/Frameworks/Python.framework/Versions/3.10/lib/python3.10/site-packages/MySQLdb/connections.py?line=251'>252</a>\u001b[0m \u001b[39mif\u001b[39;00m \u001b[39misinstance\u001b[39m(query, \u001b[39mbytearray\u001b[39m):\n\u001b[1;32m    <a href='file:///Library/Frameworks/Python.framework/Versions/3.10/lib/python3.10/site-packages/MySQLdb/connections.py?line=252'>253</a>\u001b[0m     query \u001b[39m=\u001b[39m \u001b[39mbytes\u001b[39m(query)\n\u001b[0;32m--> <a href='file:///Library/Frameworks/Python.framework/Versions/3.10/lib/python3.10/site-packages/MySQLdb/connections.py?line=253'>254</a>\u001b[0m _mysql\u001b[39m.\u001b[39;49mconnection\u001b[39m.\u001b[39;49mquery(\u001b[39mself\u001b[39;49m, query)\n",
      "\u001b[0;31mOperationalError\u001b[0m: (1050, \"Table 'students' already exists\")"
     ]
    }
   ],
   "source": [
    "import MySQLdb\n",
    "\n",
    "db = MySQLdb.connect(\"localhost\", \"root\", \"percussion520\", \"mydatabase\")\n",
    "\n",
    "cursor = db.cursor()\n",
    "\n",
    "## 1.如果STUDENTS資料表存在，將STUDENTS資料表丟棄\n",
    "cursor.execute(\"DROP DATABASE IF EXISTS STUDENTS\")\n",
    "\n",
    "\n",
    "## 2.創建STUDENTS資料表，資料表欄位如下\n",
    "'''\n",
    "| ID INT(11) | NAME CHAR(20) | GENDER CHAR(20) | CHINESE CHAR(20) | ENGLISH CHAR(20) | MATH CHAR(20) | SOCIAL_SCIENCE CHAR(20) | SCIENCE  CHAR(20) |\n",
    "\n",
    "PRIMARY KEY = ID\n",
    "CHARSET = utf8\n",
    "\n",
    "'''\n",
    "\n",
    "sql = \"\"\"CREATE TABLE STUDENTS (\n",
    "         ID INT(11) NOT NULL AUTO_INCREMENT,\n",
    "         NAME  CHAR(20),\n",
    "         GENDER  CHAR(20),\n",
    "         CHINESE CHAR(20),\n",
    "         ENGLISH CHAR(20),\n",
    "         MATH CHAR(20),\n",
    "         SOCIAL_SCIENCE CHAR(20),\n",
    "         SCIENCE  CHAR(20),\n",
    "         \n",
    "         PRIMARY KEY  (ID)\n",
    "         ) DEFAULT CHARSET=utf8\"\"\"\n",
    "cursor.execute(sql)\n",
    "\n",
    "db.close()"
   ]
  },
  {
   "cell_type": "markdown",
   "id": "frequent-helicopter",
   "metadata": {},
   "source": [
    "# 手key學生成績到資料庫內  \n",
    "請手動輸入以下兩位學生成績  \n",
    "name: isaac, gender: m, chinese: 60, english: 72, math: 32, social_science: 52, science: 86  \n",
    "name: amy, gender: f, chinese: 50, english: 22, math: 80, social_science: 15, science: 93"
   ]
  },
  {
   "cell_type": "code",
   "execution_count": null,
   "id": "blank-professor",
   "metadata": {},
   "outputs": [
    {
     "name": "stdout",
     "output_type": "stream",
     "text": [
      "enter students score\n"
     ]
    },
    {
     "ename": "IndexError",
     "evalue": "string index out of range",
     "output_type": "error",
     "traceback": [
      "\u001b[0;31m---------------------------------------------------------------------------\u001b[0m",
      "\u001b[0;31mIndexError\u001b[0m                                Traceback (most recent call last)",
      "\u001b[1;32m/Users/yanjiayu/Downloads/TibaMe/2. MySQL/L2 直播實作/DAST307_026_專案2/DAST307_026_專案2_成績查詢系統.ipynb Cell 4'\u001b[0m in \u001b[0;36m<cell line: 8>\u001b[0;34m()\u001b[0m\n\u001b[1;32m     <a href='vscode-notebook-cell:/Users/yanjiayu/Downloads/TibaMe/2.%20MySQL/L2%20%E7%9B%B4%E6%92%AD%E5%AF%A6%E4%BD%9C/DAST307_026_%E5%B0%88%E6%A1%882/DAST307_026_%E5%B0%88%E6%A1%882_%E6%88%90%E7%B8%BE%E6%9F%A5%E8%A9%A2%E7%B3%BB%E7%B5%B1.ipynb#ch0000004?line=27'>28</a>\u001b[0m        db\u001b[39m.\u001b[39mrollback()\n\u001b[1;32m     <a href='vscode-notebook-cell:/Users/yanjiayu/Downloads/TibaMe/2.%20MySQL/L2%20%E7%9B%B4%E6%92%AD%E5%AF%A6%E4%BD%9C/DAST307_026_%E5%B0%88%E6%A1%882/DAST307_026_%E5%B0%88%E6%A1%882_%E6%88%90%E7%B8%BE%E6%9F%A5%E8%A9%A2%E7%B3%BB%E7%B5%B1.ipynb#ch0000004?line=30'>31</a>\u001b[0m     again \u001b[39m=\u001b[39m \u001b[39minput\u001b[39m(\u001b[39m\"\u001b[39m\u001b[39mcontinue(y/n)? \u001b[39m\u001b[39m\"\u001b[39m)\n\u001b[0;32m---> <a href='vscode-notebook-cell:/Users/yanjiayu/Downloads/TibaMe/2.%20MySQL/L2%20%E7%9B%B4%E6%92%AD%E5%AF%A6%E4%BD%9C/DAST307_026_%E5%B0%88%E6%A1%882/DAST307_026_%E5%B0%88%E6%A1%882_%E6%88%90%E7%B8%BE%E6%9F%A5%E8%A9%A2%E7%B3%BB%E7%B5%B1.ipynb#ch0000004?line=31'>32</a>\u001b[0m     \u001b[39mif\u001b[39;00m again[\u001b[39m0\u001b[39;49m]\u001b[39m.\u001b[39mlower() \u001b[39m==\u001b[39m \u001b[39m\"\u001b[39m\u001b[39mn\u001b[39m\u001b[39m\"\u001b[39m:\n\u001b[1;32m     <a href='vscode-notebook-cell:/Users/yanjiayu/Downloads/TibaMe/2.%20MySQL/L2%20%E7%9B%B4%E6%92%AD%E5%AF%A6%E4%BD%9C/DAST307_026_%E5%B0%88%E6%A1%882/DAST307_026_%E5%B0%88%E6%A1%882_%E6%88%90%E7%B8%BE%E6%9F%A5%E8%A9%A2%E7%B3%BB%E7%B5%B1.ipynb#ch0000004?line=32'>33</a>\u001b[0m         \u001b[39mbreak\u001b[39;00m\n\u001b[1;32m     <a href='vscode-notebook-cell:/Users/yanjiayu/Downloads/TibaMe/2.%20MySQL/L2%20%E7%9B%B4%E6%92%AD%E5%AF%A6%E4%BD%9C/DAST307_026_%E5%B0%88%E6%A1%882/DAST307_026_%E5%B0%88%E6%A1%882_%E6%88%90%E7%B8%BE%E6%9F%A5%E8%A9%A2%E7%B3%BB%E7%B5%B1.ipynb#ch0000004?line=34'>35</a>\u001b[0m db\u001b[39m.\u001b[39mclose()\n",
      "\u001b[0;31mIndexError\u001b[0m: string index out of range"
     ]
    }
   ],
   "source": [
    "import MySQLdb\n",
    "\n",
    "db = MySQLdb.connect(\"localhost\", \"root\", \"percussion520\", \"mydatabase\" )\n",
    "\n",
    "cursor = db.cursor()\n",
    "\n",
    "print(\"enter students score\")\n",
    "while True:\n",
    "\n",
    "    student_name = input(\"enter name: \")\n",
    "    student_gender = input(\"enter gender: \")\n",
    "    student_chinese = input(\"enter chinese score: \")\n",
    "    student_english = input(\"enter english score: \")\n",
    "    student_math = input(\"enter math score: \")\n",
    "    student_social_science = input(\"enter social science score: \")\n",
    "    student_science = input(\"enter science score: \")\n",
    "    \n",
    "    ## 3.將student_name, student_gender, student_chinese, ......插入到資料庫\n",
    "    x = (student_name, student_gender, student_chinese, student_english, student_math, student_social_science, student_science)\n",
    "    sql = \"\"\"INSERT INTO STUDENTS(\n",
    "         name, gender, chinese, english, math, social_science, science)\n",
    "         VALUES ( %s, %s, %s, %s, %s, %s, %s)\"\"\"\n",
    "    \n",
    "    try:\n",
    "       cursor.execute(sql, x)\n",
    "       db.commit()\n",
    "    except:\n",
    "       db.rollback()\n",
    "    \n",
    "    \n",
    "    again = input(\"continue(y/n)? \")\n",
    "    if again[0].lower() == \"n\":\n",
    "        break\n",
    "\n",
    "db.close()"
   ]
  },
  {
   "cell_type": "markdown",
   "id": "middle-jesus",
   "metadata": {},
   "source": [
    "# 查詢目前資料庫所有內容"
   ]
  },
  {
   "cell_type": "code",
   "execution_count": null,
   "id": "regular-preservation",
   "metadata": {},
   "outputs": [
    {
     "name": "stdout",
     "output_type": "stream",
     "text": [
      "name: isaac, gender: m, chinese: 60, english: 72, math: 32, social_science: 52, science: 86\n",
      "name: amy, gender: f, chinese: 50, english: 22, math: 80, social_science: 15, science: 93\n"
     ]
    }
   ],
   "source": [
    "import MySQLdb\n",
    "\n",
    "db = MySQLdb.connect(\"localhost\", \"root\", \"percussion520\", \"mydatabase\" )\n",
    "\n",
    "\n",
    "cursor = db.cursor()\n",
    "\n",
    "sql = \"SELECT * FROM STUDENTS\"\n",
    "\n",
    "## 4.查詢目前資料庫所有內容\n",
    "try:\n",
    "    cursor.execute(sql)\n",
    "    results = cursor.fetchall()\n",
    "    \n",
    "    for row in results:\n",
    "        student_id = row[0]      # <------ Don't forget this !!!\n",
    "        student_name = row[1]\n",
    "        student_gender = row[2]\n",
    "        student_chinese = row[3]\n",
    "        student_english = row[4]\n",
    "        student_math = row[5]\n",
    "        student_social_science = row[6]\n",
    "        student_science = row[7]\n",
    "        print(\"name: {}, gender: {}, chinese: {}, english: {}, math: {}, social_science: {}, science: {}\"\n",
    "              .format(student_name, student_gender, student_chinese, student_english, student_math, student_social_science, student_science))\n",
    "except:\n",
    "    print(\"Error: unable to fecth data\")\n",
    "\n",
    "    \n",
    "db.close()"
   ]
  },
  {
   "cell_type": "markdown",
   "id": "governmental-specific",
   "metadata": {},
   "source": [
    "# 使用csv檔案，大量匯入全班成績"
   ]
  },
  {
   "cell_type": "code",
   "execution_count": null,
   "id": "bound-battlefield",
   "metadata": {},
   "outputs": [
    {
     "name": "stdout",
     "output_type": "stream",
     "text": [
      "insert loe data......\n",
      "insert judy data......\n",
      "insert lily data......\n",
      "insert evan data......\n",
      "insert joyce data......\n",
      "insert yoshi data......\n",
      "insert amber data......\n",
      "insert alex data......\n",
      "insert sophia data......\n"
     ]
    }
   ],
   "source": [
    "import MySQLdb\n",
    "\n",
    "db = MySQLdb.connect(\"localhost\", \"root\", \"percussion520\", \"mydatabase\" )\n",
    "\n",
    "\n",
    "cursor = db.cursor()\n",
    "\n",
    "## 5.將exam_score.csv所有學生成績插入資料庫\n",
    "with open('exam_score.csv') as f:\n",
    "    for index, i in enumerate(f.readlines()):\n",
    "        \n",
    "        if index == 0:    # 標題列不需導入\n",
    "            continue\n",
    "            \n",
    "        x = tuple(i.strip().split(','))\n",
    "        print('insert {} data......'.format(x[0]))\n",
    "    \n",
    "        sql = \"\"\"INSERT INTO STUDENTS\n",
    "             (NAME, GENDER, CHINESE, ENGLISH, MATH, SOCIAL_SCIENCE, SCIENCE)\n",
    "             VALUES ( %s, %s, %s, %s, %s, %s, %s)\"\"\"\n",
    "    \n",
    "        try:\n",
    "           cursor.execute(sql, x)\n",
    "           db.commit()\n",
    "        except:\n",
    "           db.rollback()\n",
    "\n",
    "\n",
    "db.close()"
   ]
  },
  {
   "cell_type": "markdown",
   "id": "cooperative-rental",
   "metadata": {},
   "source": [
    "# 將sophia英文成績改成99"
   ]
  },
  {
   "cell_type": "code",
   "execution_count": null,
   "id": "starting-nowhere",
   "metadata": {},
   "outputs": [],
   "source": [
    "import MySQLdb\n",
    "\n",
    "db = MySQLdb.connect(\"localhost\", \"root\", \"percussion520\", \"mydatabase\" )\n",
    "\n",
    "cursor = db.cursor()\n",
    "\n",
    "## 6.將sophia英文成績改成99\n",
    "sql = \"UPDATE STUDENTS SET ENGLISH = 99 WHERE NAME = '%s'\" % ('sophia')\n",
    "\n",
    "try:\n",
    "   cursor.execute(sql)\n",
    "   db.commit()\n",
    "except:\n",
    "   db.rollback()\n",
    "\n",
    "\n",
    "db.close()"
   ]
  },
  {
   "cell_type": "markdown",
   "id": "planned-player",
   "metadata": {},
   "source": [
    "# 計算各科平均"
   ]
  },
  {
   "cell_type": "code",
   "execution_count": null,
   "id": "occasional-perception",
   "metadata": {},
   "outputs": [
    {
     "name": "stdout",
     "output_type": "stream",
     "text": [
      "name: isaac, gender: m, chinese: 60, english: 72, math: 32, social_science: 52, science: 86\n",
      "name: amy, gender: f, chinese: 50, english: 22, math: 80, social_science: 15, science: 93\n",
      "name: loe, gender: m, chinese: 70, english: 48, math: 69, social_science: 50, science: 66\n",
      "name: judy, gender: f, chinese: 89, english: 90, math: 59, social_science: 28, science: 39\n",
      "name: lily, gender: f, chinese: 37, english: 43, math: 67, social_science: 34, science: 43\n",
      "name: evan, gender: m, chinese: 12, english: 57, math: 97, social_science: 100, science: 100\n",
      "name: joyce, gender: f, chinese: 58, english: 48, math: 47, social_science: 98, science: 37\n",
      "name: yoshi, gender: m, chinese: 58, english: 49, math: 79, social_science: 38, science: 20\n",
      "name: amber, gender: f, chinese: 57, english: 23, math: 6, social_science: 28, science: 69\n",
      "name: alex, gender: m, chinese: 59, english: 69, math: 20, social_science: 60, science: 79\n",
      "name: sophia, gender: f, chinese: 79, english: 99, math: 70, social_science: 49, science: 70\n",
      "chinese_avg: 57.18181818181818\n",
      "english_avg: 56.36363636363637\n",
      "math_avg: 56.90909090909091\n",
      "social_science_avg: 50.18181818181818\n",
      "science_avg: 63.81818181818182\n"
     ]
    }
   ],
   "source": [
    "import MySQLdb\n",
    "\n",
    "db = MySQLdb.connect(\"localhost\", \"root\", \"percussion520\", \"mydatabase\" )\n",
    "\n",
    "cursor = db.cursor()\n",
    "\n",
    "\n",
    "sql = \"SELECT * FROM STUDENTS\"\n",
    "chinese_avg = 0\n",
    "english_avg = 0\n",
    "math_avg = 0\n",
    "social_science_avg = 0\n",
    "science_avg = 0\n",
    "\n",
    "try:\n",
    "    \n",
    "    cursor.execute(sql)\n",
    "\n",
    "    results = cursor.fetchall()\n",
    "    num_students = len(results)   # 總共幾個學生\n",
    "    \n",
    "    ## 7.計算各個科目平均成績\n",
    "    for row in results:\n",
    "        \n",
    "        student_id = row[0]\n",
    "        student_name = row[1]\n",
    "        student_gender = row[2]\n",
    "\n",
    "        \n",
    "        student_chinese = row[3]\n",
    "        chinese_avg = chinese_avg + float(row[3])\n",
    "                \n",
    "        \n",
    "        student_english = row[4]\n",
    "        english_avg = english_avg + float(row[4])\n",
    "        \n",
    "        \n",
    "        student_math = row[5]\n",
    "        math_avg = math_avg + float(row[5])        \n",
    "        \n",
    "        student_social_science = row[6]\n",
    "        social_science_avg = social_science_avg + float(row[6])   \n",
    "        \n",
    "        student_science = row[7]\n",
    "        science_avg = science_avg + float(row[7])           \n",
    "        \n",
    "        \n",
    "        print('name: {}, gender: {}, chinese: {}, english: {}, math: {}, social_science: {}, science: {}' \n",
    "               .format(student_name, student_gender, student_chinese, student_english, student_math, student_social_science, student_science))\n",
    "\n",
    "except:\n",
    "    print(\"Error: unable to fecth data\")\n",
    "\n",
    "print('chinese_avg: {}'.format(chinese_avg/num_students))\n",
    "print('english_avg: {}'.format(english_avg/num_students))\n",
    "print('math_avg: {}'.format(math_avg/num_students))\n",
    "print('social_science_avg: {}'.format(social_science_avg/num_students))\n",
    "print('science_avg: {}'.format(science_avg/num_students))\n",
    "\n",
    "db.close()"
   ]
  },
  {
   "cell_type": "code",
   "execution_count": null,
   "id": "individual-flood",
   "metadata": {},
   "outputs": [],
   "source": []
  }
 ],
 "metadata": {
  "kernelspec": {
   "display_name": "Python 3 (ipykernel)",
   "language": "python",
   "name": "python3"
  },
  "language_info": {
   "codemirror_mode": {
    "name": "ipython",
    "version": 3
   },
   "file_extension": ".py",
   "mimetype": "text/x-python",
   "name": "python",
   "nbconvert_exporter": "python",
   "pygments_lexer": "ipython3",
   "version": "3.10.2"
  }
 },
 "nbformat": 4,
 "nbformat_minor": 5
}
