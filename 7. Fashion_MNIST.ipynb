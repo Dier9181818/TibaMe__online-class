{
  "cells": [
    {
      "cell_type": "markdown",
      "metadata": {
        "id": "93vwwPeGVCZP"
      },
      "source": [
        "實作說明：\n",
        "嘗試至少以下述方式之一(或用其他方式)提高正確率，以Matplotlib loss/accuracy 圖示之 \n",
        "\n",
        "Dropout Rate(目前 0.2)\n",
        "\n",
        "Batch Normalization (API?)\n",
        "\n",
        "Kernel Size (目前 3 x 3)\n",
        "\n",
        "Activation Function (目前 Relu)\n",
        "\n",
        "Optimization: (目前 adam)"
      ]
    },
    {
      "cell_type": "code",
      "execution_count": 1,
      "metadata": {
        "colab": {
          "base_uri": "https://localhost:8080/",
          "height": 34
        },
        "id": "pmNpq8GML1jW",
        "outputId": "02aeded4-fdcb-4859-8e3a-73ee2411f159"
      },
      "outputs": [
        {
          "name": "stdout",
          "output_type": "stream",
          "text": [
            "2.9.1\n"
          ]
        }
      ],
      "source": [
        "# Install TensorFlow\n",
        "# !pip install -q tensorflow-gpu==2.0.0-beta1\n",
        "\n",
        "#try:\n",
        "#  %tensorflow_version 2.x  # Colab only.\n",
        "#except Exception:\n",
        "#  pass\n",
        "\n",
        "import tensorflow as tf\n",
        "print(tf.__version__)"
      ]
    },
    {
      "cell_type": "code",
      "execution_count": 2,
      "metadata": {
        "id": "cBJh6ib6MEIW"
      },
      "outputs": [],
      "source": [
        "# 更多輸入\n",
        "\n",
        "import numpy as np\n",
        "import matplotlib.pyplot as plt\n",
        "from tensorflow.keras.layers import Input, Conv2D, Dense, Flatten, Dropout\n",
        "from tensorflow.keras.models import Model"
      ]
    },
    {
      "cell_type": "code",
      "execution_count": 3,
      "metadata": {
        "colab": {
          "base_uri": "https://localhost:8080/",
          "height": 173
        },
        "id": "H_EGZv1TL4S_",
        "outputId": "462450de-9618-4113-92a5-c67364f218b4"
      },
      "outputs": [
        {
          "name": "stdout",
          "output_type": "stream",
          "text": [
            "x_train.shape: (60000, 28, 28)\n"
          ]
        }
      ],
      "source": [
        "# 載入影像\n",
        "fashion_mnist = tf.keras.datasets.fashion_mnist\n",
        "\n",
        "(x_train, y_train), (x_test, y_test) = fashion_mnist.load_data()\n",
        "x_train, x_test = x_train / 255.0, x_test / 255.0\n",
        "print(\"x_train.shape:\", x_train.shape)"
      ]
    },
    {
      "cell_type": "code",
      "execution_count": 4,
      "metadata": {
        "colab": {
          "base_uri": "https://localhost:8080/",
          "height": 34
        },
        "id": "1mqgWlIXNBfS",
        "outputId": "3b3cd22b-0175-4968-a5d5-332b02466b5c"
      },
      "outputs": [
        {
          "name": "stdout",
          "output_type": "stream",
          "text": [
            "(60000, 28, 28, 1)\n"
          ]
        }
      ],
      "source": [
        "# (28x28)乃 2D!\n",
        "# convolution 需要 height x width x color 我們得 expand_dims\n",
        "x_train = np.expand_dims(x_train, -1)\n",
        "x_test = np.expand_dims(x_test, -1)\n",
        "print(x_train.shape)"
      ]
    },
    {
      "cell_type": "code",
      "execution_count": 5,
      "metadata": {
        "colab": {
          "base_uri": "https://localhost:8080/",
          "height": 34
        },
        "id": "1Wr15bYpMwbB",
        "outputId": "52bcc03e-bdfe-4402-a5b8-c438755194e9"
      },
      "outputs": [
        {
          "name": "stdout",
          "output_type": "stream",
          "text": [
            "number of classes: 10\n"
          ]
        }
      ],
      "source": [
        "# 共有多少種物品\n",
        "K = len(set(y_train))\n",
        "print(\"number of classes:\", K)"
      ]
    },
    {
      "cell_type": "code",
      "execution_count": 6,
      "metadata": {
        "id": "Mmo66uQoMA1Q"
      },
      "outputs": [
        {
          "name": "stdout",
          "output_type": "stream",
          "text": [
            "Metal device set to: Apple M1\n",
            "\n",
            "systemMemory: 8.00 GB\n",
            "maxCacheSize: 2.67 GB\n",
            "\n"
          ]
        },
        {
          "name": "stderr",
          "output_type": "stream",
          "text": [
            "2022-06-02 18:10:25.404537: I tensorflow/core/common_runtime/pluggable_device/pluggable_device_factory.cc:305] Could not identify NUMA node of platform GPU ID 0, defaulting to 0. Your kernel may not have been built with NUMA support.\n",
            "2022-06-02 18:10:25.404948: I tensorflow/core/common_runtime/pluggable_device/pluggable_device_factory.cc:271] Created TensorFlow device (/job:localhost/replica:0/task:0/device:GPU:0 with 0 MB memory) -> physical PluggableDevice (device: 0, name: METAL, pci bus id: <undefined>)\n"
          ]
        }
      ],
      "source": [
        "# 使用 函數式接口 functional API 建模\n",
        "i = Input(shape=x_train[0].shape)\n",
        "x = Conv2D(32, (3, 3), strides=2, activation='relu')(i)\n",
        "x = Conv2D(64, (3, 3), strides=2, activation='relu')(x)\n",
        "x = Conv2D(128, (4, 4), strides=2, activation='relu')(x)\n",
        "x = Flatten()(x)\n",
        "x = Dropout(0.3)(x)\n",
        "x = Dense(512, activation='relu')(x)\n",
        "x = Dropout(0.3)(x)\n",
        "x = Dense(K, activation='softmax')(x)\n",
        "\n",
        "model = Model(i, x)"
      ]
    },
    {
      "cell_type": "code",
      "execution_count": 7,
      "metadata": {
        "id": "uxLPSqx4XxCQ"
      },
      "outputs": [],
      "source": [
        "# your improved model code here to replace the above one"
      ]
    },
    {
      "cell_type": "code",
      "execution_count": 8,
      "metadata": {
        "colab": {
          "base_uri": "https://localhost:8080/",
          "height": 536
        },
        "id": "0zF9n0P7NcP-",
        "outputId": "8c44be1a-e3bb-4c4c-fdf9-db0f5cd98ac8"
      },
      "outputs": [
        {
          "name": "stdout",
          "output_type": "stream",
          "text": [
            "Epoch 1/15\n"
          ]
        },
        {
          "name": "stderr",
          "output_type": "stream",
          "text": [
            "2022-06-02 18:10:26.755922: W tensorflow/core/platform/profile_utils/cpu_utils.cc:128] Failed to get CPU frequency: 0 Hz\n",
            "2022-06-02 18:10:27.076693: I tensorflow/core/grappler/optimizers/custom_graph_optimizer_registry.cc:113] Plugin optimizer for device_type GPU is enabled.\n"
          ]
        },
        {
          "name": "stdout",
          "output_type": "stream",
          "text": [
            "1874/1875 [============================>.] - ETA: 0s - loss: 0.4867 - accuracy: 0.8219"
          ]
        },
        {
          "name": "stderr",
          "output_type": "stream",
          "text": [
            "2022-06-02 18:10:49.861916: I tensorflow/core/grappler/optimizers/custom_graph_optimizer_registry.cc:113] Plugin optimizer for device_type GPU is enabled.\n"
          ]
        },
        {
          "name": "stdout",
          "output_type": "stream",
          "text": [
            "1875/1875 [==============================] - 25s 11ms/step - loss: 0.4868 - accuracy: 0.8218 - val_loss: 0.3825 - val_accuracy: 0.8571\n",
            "Epoch 2/15\n",
            "1875/1875 [==============================] - 21s 11ms/step - loss: 0.3230 - accuracy: 0.8800 - val_loss: 0.3114 - val_accuracy: 0.8848\n",
            "Epoch 3/15\n",
            "1875/1875 [==============================] - 20s 11ms/step - loss: 0.2765 - accuracy: 0.8975 - val_loss: 0.2828 - val_accuracy: 0.8946\n",
            "Epoch 4/15\n",
            "1875/1875 [==============================] - 20s 11ms/step - loss: 0.2453 - accuracy: 0.9086 - val_loss: 0.2671 - val_accuracy: 0.9003\n",
            "Epoch 5/15\n",
            "1875/1875 [==============================] - 20s 10ms/step - loss: 0.2185 - accuracy: 0.9173 - val_loss: 0.2642 - val_accuracy: 0.9046\n",
            "Epoch 6/15\n",
            "1875/1875 [==============================] - 19s 10ms/step - loss: 0.1993 - accuracy: 0.9251 - val_loss: 0.2608 - val_accuracy: 0.9087\n",
            "Epoch 7/15\n",
            "1875/1875 [==============================] - 19s 10ms/step - loss: 0.1820 - accuracy: 0.9316 - val_loss: 0.2660 - val_accuracy: 0.9091\n",
            "Epoch 8/15\n",
            "1875/1875 [==============================] - 20s 10ms/step - loss: 0.1658 - accuracy: 0.9377 - val_loss: 0.2752 - val_accuracy: 0.9089\n",
            "Epoch 9/15\n",
            "1875/1875 [==============================] - 20s 11ms/step - loss: 0.1543 - accuracy: 0.9423 - val_loss: 0.2730 - val_accuracy: 0.9079\n",
            "Epoch 10/15\n",
            "1875/1875 [==============================] - 20s 11ms/step - loss: 0.1449 - accuracy: 0.9458 - val_loss: 0.2862 - val_accuracy: 0.9111\n",
            "Epoch 11/15\n",
            "1875/1875 [==============================] - 20s 10ms/step - loss: 0.1323 - accuracy: 0.9495 - val_loss: 0.3071 - val_accuracy: 0.9060\n",
            "Epoch 12/15\n",
            "1875/1875 [==============================] - 20s 11ms/step - loss: 0.1239 - accuracy: 0.9526 - val_loss: 0.2957 - val_accuracy: 0.9061\n",
            "Epoch 13/15\n",
            "1875/1875 [==============================] - 20s 10ms/step - loss: 0.1143 - accuracy: 0.9561 - val_loss: 0.3030 - val_accuracy: 0.9147\n",
            "Epoch 14/15\n",
            "1875/1875 [==============================] - 20s 10ms/step - loss: 0.1091 - accuracy: 0.9584 - val_loss: 0.2996 - val_accuracy: 0.9134\n",
            "Epoch 15/15\n",
            "1875/1875 [==============================] - 20s 10ms/step - loss: 0.1061 - accuracy: 0.9610 - val_loss: 0.3155 - val_accuracy: 0.9091\n"
          ]
        }
      ],
      "source": [
        "# 編譯與訓練\n",
        "# 請確認用GPU\n",
        "model.compile(optimizer='adam',\n",
        "              loss='sparse_categorical_crossentropy',\n",
        "              metrics=['accuracy'])\n",
        "r = model.fit(x_train, y_train, validation_data=(x_test, y_test), epochs=15)"
      ]
    },
    {
      "cell_type": "code",
      "execution_count": 9,
      "metadata": {
        "id": "yETJCcNRX3g-"
      },
      "outputs": [],
      "source": [
        "#your improved optimization code here to replace the above one"
      ]
    },
    {
      "cell_type": "code",
      "execution_count": 10,
      "metadata": {
        "colab": {
          "base_uri": "https://localhost:8080/",
          "height": 282
        },
        "id": "ML37hw4iOkBm",
        "outputId": "73597c53-9474-4c4f-cab6-b50b94e15c65"
      },
      "outputs": [
        {
          "data": {
            "text/plain": [
              "<matplotlib.legend.Legend at 0x29f92b460>"
            ]
          },
          "execution_count": 10,
          "metadata": {},
          "output_type": "execute_result"
        },
        {
          "data": {
            "image/png": "[encoded data removed]",
            "text/plain": [
              "<Figure size 432x288 with 1 Axes>"
            ]
          },
          "metadata": {
            "needs_background": "light"
          },
          "output_type": "display_data"
        }
      ],
      "source": [
        "# 繪出迭代損失\n",
        "import matplotlib.pyplot as plt\n",
        "plt.plot(r.history['loss'], label='loss')\n",
        "plt.plot(r.history['val_loss'], label='val_loss')\n",
        "plt.legend()"
      ]
    },
    {
      "cell_type": "code",
      "execution_count": 11,
      "metadata": {
        "colab": {
          "base_uri": "https://localhost:8080/",
          "height": 282
        },
        "id": "pemstSDIOpIb",
        "outputId": "f4b81ede-b260-432e-bb01-1a292974cb94"
      },
      "outputs": [
        {
          "data": {
            "text/plain": [
              "<matplotlib.legend.Legend at 0x29fa90310>"
            ]
          },
          "execution_count": 11,
          "metadata": {},
          "output_type": "execute_result"
        },
        {
          "data": {
            "image/png": "[encoded data removed]",
            "text/plain": [
              "<Figure size 432x288 with 1 Axes>"
            ]
          },
          "metadata": {
            "needs_background": "light"
          },
          "output_type": "display_data"
        }
      ],
      "source": [
        "# 繪出迭代精準度\n",
        "plt.plot(r.history['accuracy'], label='acc')\n",
        "plt.plot(r.history['val_accuracy'], label='val_acc')\n",
        "plt.legend()"
      ]
    },
    {
      "cell_type": "code",
      "execution_count": 12,
      "metadata": {
        "colab": {
          "base_uri": "https://localhost:8080/",
          "height": 501
        },
        "id": "2LJTd4OiO6kL",
        "outputId": "0c6ad86a-0610-467f-dec1-cc1bc43c3c06"
      },
      "outputs": [
        {
          "name": "stdout",
          "output_type": "stream",
          "text": [
            " 38/313 [==>...........................] - ETA: 0s"
          ]
        },
        {
          "name": "stderr",
          "output_type": "stream",
          "text": [
            "2022-06-02 18:15:29.186262: I tensorflow/core/grappler/optimizers/custom_graph_optimizer_registry.cc:113] Plugin optimizer for device_type GPU is enabled.\n"
          ]
        },
        {
          "name": "stdout",
          "output_type": "stream",
          "text": [
            "313/313 [==============================] - 1s 3ms/step\n",
            "Confusion matrix, without normalization\n",
            "[[803   2  19  14   2   1 154   0   5   0]\n",
            " [  2 979   0  10   4   0   3   0   2   0]\n",
            " [ 11   1 863   4  51   0  70   0   0   0]\n",
            " [ 14   9  13 900  35   0  29   0   0   0]\n",
            " [  0   0  54  18 874   1  53   0   0   0]\n",
            " [  0   0   0   0   0 985   0  11   0   4]\n",
            " [ 52   1  57  18  70   1 797   0   4   0]\n",
            " [  0   0   0   0   0  15   0 979   0   6]\n",
            " [  6   0   3   3   8   4   9   4 963   0]\n",
            " [  1   0   0   0   0   7   0  44   0 948]]\n"
          ]
        },
        {
          "data": {
            "image/png": "[encoded data removed]",
            "text/plain": [
              "<Figure size 432x288 with 2 Axes>"
            ]
          },
          "metadata": {
            "needs_background": "light"
          },
          "output_type": "display_data"
        }
      ],
      "source": [
        "# 繪出混淆矩陣\n",
        "from sklearn.metrics import confusion_matrix\n",
        "import itertools\n",
        "\n",
        "def plot_confusion_matrix(cm, classes,\n",
        "                          normalize=False,\n",
        "                          title='Confusion matrix',\n",
        "                          cmap=plt.cm.Blues):\n",
        "  \"\"\"\n",
        "  This function prints and plots the confusion matrix.\n",
        "  Normalization can be applied by setting `normalize=True`.\n",
        "  \"\"\"\n",
        "  if normalize:\n",
        "      cm = cm.astype('float') / cm.sum(axis=1)[:, np.newaxis]\n",
        "      print(\"Normalized confusion matrix\")\n",
        "  else:\n",
        "      print('Confusion matrix, without normalization')\n",
        "\n",
        "  print(cm)\n",
        "\n",
        "  plt.imshow(cm, interpolation='nearest', cmap=cmap)\n",
        "  plt.title(title)\n",
        "  plt.colorbar()\n",
        "  tick_marks = np.arange(len(classes))\n",
        "  plt.xticks(tick_marks, classes, rotation=45)\n",
        "  plt.yticks(tick_marks, classes)\n",
        "\n",
        "  fmt = '.2f' if normalize else 'd'\n",
        "  thresh = cm.max() / 2.\n",
        "  for i, j in itertools.product(range(cm.shape[0]), range(cm.shape[1])):\n",
        "      plt.text(j, i, format(cm[i, j], fmt),\n",
        "               horizontalalignment=\"center\",\n",
        "               color=\"white\" if cm[i, j] > thresh else \"black\")\n",
        "\n",
        "  plt.tight_layout()\n",
        "  plt.ylabel('True label')\n",
        "  plt.xlabel('Predicted label')\n",
        "  plt.show()\n",
        "\n",
        "\n",
        "p_test = model.predict(x_test).argmax(axis=1)\n",
        "cm = confusion_matrix(y_test, p_test)\n",
        "plot_confusion_matrix(cm, list(range(10)))\n",
        "\n"
      ]
    },
    {
      "cell_type": "code",
      "execution_count": 13,
      "metadata": {
        "id": "4jiCbXEKYdTa"
      },
      "outputs": [],
      "source": [
        "# 映射標籤\n",
        "labels = '''T-shirt/top\n",
        "Trouser\n",
        "Pullover\n",
        "Dress\n",
        "Coat\n",
        "Sandal\n",
        "Shirt\n",
        "Sneaker\n",
        "Bag\n",
        "Ankle boot'''.split(\"\\n\")"
      ]
    },
    {
      "cell_type": "code",
      "execution_count": 14,
      "metadata": {
        "colab": {
          "base_uri": "https://localhost:8080/",
          "height": 281
        },
        "id": "jjmW4STFO-Ny",
        "outputId": "e1e37f27-3af1-4097-ab8a-a26b31e35f1d"
      },
      "outputs": [
        {
          "data": {
            "image/png": "[encoded data removed]",
            "text/plain": [
              "<Figure size 432x288 with 1 Axes>"
            ]
          },
          "metadata": {
            "needs_background": "light"
          },
          "output_type": "display_data"
        }
      ],
      "source": [
        "# 展示分類錯誤樣本\n",
        "misclassified_idx = np.where(p_test != y_test)[0]\n",
        "i = np.random.choice(misclassified_idx)\n",
        "plt.imshow(x_test[i].reshape(28,28), cmap='gray')\n",
        "plt.title(\"True label: %s Predicted: %s\" % (labels[y_test[i]], labels[p_test[i]]));"
      ]
    }
  ],
  "metadata": {
    "accelerator": "GPU",
    "colab": {
      "collapsed_sections": [],
      "name": "Demo9_Fashion MNIST_實作練習.ipynb",
      "provenance": []
    },
    "interpreter": {
      "hash": "0a4f391e080778eb1e92d046fc006187871e406d0548eb5f2bbb682766950156"
    },
    "kernelspec": {
      "display_name": "Python 3.9.13",
      "language": "python",
      "name": "python3"
    },
    "language_info": {
      "codemirror_mode": {
        "name": "ipython",
        "version": 3
      },
      "file_extension": ".py",
      "mimetype": "text/x-python",
      "name": "python",
      "nbconvert_exporter": "python",
      "pygments_lexer": "ipython3",
      "version": "3.9.13"
    }
  },
  "nbformat": 4,
  "nbformat_minor": 0
}
